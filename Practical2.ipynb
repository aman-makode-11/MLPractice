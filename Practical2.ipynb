{
  "nbformat": 4,
  "nbformat_minor": 0,
  "metadata": {
    "colab": {
      "provenance": [],
      "authorship_tag": "ABX9TyPHXR1kzWNqXF8X+olL+xUX",
      "include_colab_link": true
    },
    "kernelspec": {
      "name": "python3",
      "display_name": "Python 3"
    },
    "language_info": {
      "name": "python"
    }
  },
  "cells": [
    {
      "cell_type": "markdown",
      "metadata": {
        "id": "view-in-github",
        "colab_type": "text"
      },
      "source": [
        "<a href=\"https://colab.research.google.com/github/aman-makode-11/MLPractice/blob/main/Practical2.ipynb\" target=\"_parent\"><img src=\"https://colab.research.google.com/assets/colab-badge.svg\" alt=\"Open In Colab\"/></a>"
      ]
    },
    {
      "cell_type": "code",
      "execution_count": 1,
      "metadata": {
        "id": "O5i8-e8q1pCU",
        "colab": {
          "base_uri": "https://localhost:8080/"
        },
        "outputId": "1c227b34-0372-435c-ac9c-25443e0fee3d"
      },
      "outputs": [
        {
          "output_type": "stream",
          "name": "stdout",
          "text": [
            "Original Data:\n",
            "   longitude  latitude  housing_median_age  total_rooms  total_bedrooms  \\\n",
            "0    -122.05     37.37                27.0       3885.0           661.0   \n",
            "1    -118.30     34.26                43.0       1510.0           310.0   \n",
            "2    -117.81     33.78                27.0       3589.0           507.0   \n",
            "3    -118.36     33.82                28.0         67.0            15.0   \n",
            "4    -119.67     36.33                19.0       1241.0           244.0   \n",
            "\n",
            "   population  households  median_income  median_house_value  \n",
            "0      1537.0       606.0         6.6085            344700.0  \n",
            "1       809.0       277.0         3.5990            176500.0  \n",
            "2      1484.0       495.0         5.7934            270500.0  \n",
            "3        49.0        11.0         6.1359            330000.0  \n",
            "4       850.0       237.0         2.9375             81700.0  \n",
            "\n",
            "\n"
          ]
        }
      ],
      "source": [
        "import pandas as pd\n",
        "input_file_path = '/content/sample_data/california_housing_test.csv'\n",
        "df = pd.read_csv(input_file_path)\n",
        "\n",
        "print(\"Original Data:\")\n",
        "print(df.head())\n",
        "print(\"\\n\")"
      ]
    },
    {
      "cell_type": "code",
      "source": [
        "print(\"Missing Values Before Cleaning:\")\n",
        "print(df.isnull().sum())\n",
        "print(\"\\n\")"
      ],
      "metadata": {
        "colab": {
          "base_uri": "https://localhost:8080/"
        },
        "id": "-KQgQL8j2zpC",
        "outputId": "12c1103e-e73f-4d16-fa9d-0e308d2fe891"
      },
      "execution_count": 2,
      "outputs": [
        {
          "output_type": "stream",
          "name": "stdout",
          "text": [
            "Missing Values Before Cleaning:\n",
            "longitude             0\n",
            "latitude              0\n",
            "housing_median_age    0\n",
            "total_rooms           0\n",
            "total_bedrooms        0\n",
            "population            0\n",
            "households            0\n",
            "median_income         0\n",
            "median_house_value    0\n",
            "dtype: int64\n",
            "\n",
            "\n"
          ]
        }
      ]
    },
    {
      "cell_type": "code",
      "source": [
        "# Check for missing values in 'median_income' and fill with mean if any\n",
        "if df['median_income'].isnull().any():\n",
        "    mean_value = df['median_income'].mean()\n",
        "    print(f\"Filling missing values in 'median_income' with the mean value: {mean_value}\")\n",
        "    df['median_income'] = df['median_income'].fillna(mean_value)\n",
        "else:\n",
        "    print(\"No missing values in 'median_income'.\")\n",
        "\n",
        "# Calculate 'Price Tax' based on 'median_income'\n",
        "tax_rate = 0.1  # Assuming a tax rate value, update as needed\n",
        "df['Price Tax'] = df['median_income'] * tax_rate\n",
        "\n",
        "print(\"Added new column 'Price Tax' based on 'median_income':\")\n",
        "print(df[['median_income', 'Price Tax']].head())\n",
        "print(\"\\n\")"
      ],
      "metadata": {
        "colab": {
          "base_uri": "https://localhost:8080/"
        },
        "id": "6J6tAWNO3HhO",
        "outputId": "558247f4-d0d8-4345-ed5b-4121781296e9"
      },
      "execution_count": 4,
      "outputs": [
        {
          "output_type": "stream",
          "name": "stdout",
          "text": [
            "No missing values in 'median_income'.\n",
            "Added new column 'Price Tax' based on 'median_income':\n",
            "   median_income  Price Tax\n",
            "0         6.6085    0.66085\n",
            "1         3.5990    0.35990\n",
            "2         5.7934    0.57934\n",
            "3         6.1359    0.61359\n",
            "4         2.9375    0.29375\n",
            "\n",
            "\n"
          ]
        }
      ]
    },
    {
      "cell_type": "code",
      "source": [
        "# Checking for any missing values\n",
        "print(\"Missing Values After Cleaning:\")\n",
        "print(df.isnull().sum())\n",
        "print(\"\\n\")"
      ],
      "metadata": {
        "colab": {
          "base_uri": "https://localhost:8080/"
        },
        "id": "3AahLKDq36az",
        "outputId": "838ec8c6-adbe-4ba2-9ee0-b08a99673650"
      },
      "execution_count": 5,
      "outputs": [
        {
          "output_type": "stream",
          "name": "stdout",
          "text": [
            "Missing Values After Cleaning:\n",
            "longitude             0\n",
            "latitude              0\n",
            "housing_median_age    0\n",
            "total_rooms           0\n",
            "total_bedrooms        0\n",
            "population            0\n",
            "households            0\n",
            "median_income         0\n",
            "median_house_value    0\n",
            "Price Tax             0\n",
            "dtype: int64\n",
            "\n",
            "\n"
          ]
        }
      ]
    },
    {
      "cell_type": "code",
      "source": [
        "output_file_path = '/content/sample_data/updated_california_housing_test.csv'\n",
        "df.to_csv(output_file_path, index=False)\n",
        "print(f\"Updated data saved to {output_file_path}\")"
      ],
      "metadata": {
        "colab": {
          "base_uri": "https://localhost:8080/"
        },
        "id": "qyPQRp7F4Hzv",
        "outputId": "953e2697-0587-43b5-94f0-8b8210762871"
      },
      "execution_count": 6,
      "outputs": [
        {
          "output_type": "stream",
          "name": "stdout",
          "text": [
            "Updated data saved to /content/sample_data/updated_california_housing_test.csv\n"
          ]
        }
      ]
    },
    {
      "cell_type": "code",
      "source": [
        "# Print the first few rows of the cleaned DataFrame\n",
        "print(\"\\nCleaned Data (First 5 Rows):\")\n",
        "print(df.head())"
      ],
      "metadata": {
        "colab": {
          "base_uri": "https://localhost:8080/"
        },
        "id": "B-dZaXhh4UqO",
        "outputId": "5b829797-a3d1-48b6-87aa-3f2766358d41"
      },
      "execution_count": 7,
      "outputs": [
        {
          "output_type": "stream",
          "name": "stdout",
          "text": [
            "\n",
            "Cleaned Data (First 5 Rows):\n",
            "   longitude  latitude  housing_median_age  total_rooms  total_bedrooms  \\\n",
            "0    -122.05     37.37                27.0       3885.0           661.0   \n",
            "1    -118.30     34.26                43.0       1510.0           310.0   \n",
            "2    -117.81     33.78                27.0       3589.0           507.0   \n",
            "3    -118.36     33.82                28.0         67.0            15.0   \n",
            "4    -119.67     36.33                19.0       1241.0           244.0   \n",
            "\n",
            "   population  households  median_income  median_house_value  Price Tax  \n",
            "0      1537.0       606.0         6.6085            344700.0    0.66085  \n",
            "1       809.0       277.0         3.5990            176500.0    0.35990  \n",
            "2      1484.0       495.0         5.7934            270500.0    0.57934  \n",
            "3        49.0        11.0         6.1359            330000.0    0.61359  \n",
            "4       850.0       237.0         2.9375             81700.0    0.29375  \n"
          ]
        }
      ]
    },
    {
      "cell_type": "code",
      "source": [],
      "metadata": {
        "id": "hqFJBue_4bsQ"
      },
      "execution_count": null,
      "outputs": []
    }
  ]
}